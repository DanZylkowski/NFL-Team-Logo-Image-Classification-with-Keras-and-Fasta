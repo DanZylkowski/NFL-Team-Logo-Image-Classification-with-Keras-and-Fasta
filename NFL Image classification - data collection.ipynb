{
 "cells": [
  {
   "cell_type": "markdown",
   "id": "250b930c",
   "metadata": {},
   "source": [
    "### This notebook provides the code for downloading and testing NFL team logo images from the bing image search engine. The images will be used for image classification."
   ]
  },
  {
   "cell_type": "code",
   "execution_count": 1,
   "id": "0182bbb6",
   "metadata": {},
   "outputs": [],
   "source": [
    "import time\n",
    "import sys\n",
    "import os\n",
    "from PIL import Image\n",
    "\n",
    "base_dir  = r'C:\\Users\\dlbry\\Downloads\\DSC 680\\Project 2'\n",
    "\n",
    "train_dir = os.path.join(base_dir, 'train')\n",
    "\n",
    "if not os.path.isdir(train_dir):\n",
    "        os.mkdir(train_dir)"
   ]
  },
  {
   "cell_type": "markdown",
   "id": "f793b622",
   "metadata": {},
   "source": [
    "Next, we will define the 31 NFL team names that we want to search for. "
   ]
  },
  {
   "cell_type": "code",
   "execution_count": 2,
   "id": "cc993462",
   "metadata": {},
   "outputs": [
    {
     "data": {
      "text/plain": [
       "31"
      ]
     },
     "execution_count": 2,
     "metadata": {},
     "output_type": "execute_result"
    }
   ],
   "source": [
    "# Define class labels\n",
    "nfl_team_names = [\n",
    "'Arizona Cardinals',\n",
    "'Atlanta Falcons',\n",
    "'Baltimore Ravens',\n",
    "'Buffalo Bills',\n",
    "'Carolina Panthers',\n",
    "'Chicago Bears',\n",
    "'Cincinnati Bengals',\n",
    "'Cleveland Browns',\n",
    "'Dallas Cowboys',\n",
    "'Denver Broncos',\n",
    "'Detroit Lions',\n",
    "'Green Bay Packers',\n",
    "'Houston Texans',\n",
    "'Indianapolis Colts',\n",
    "'Jacksonville Jaguars',\n",
    "'Kansas City Chiefs',\n",
    "'Las Vegas Raiders',\n",
    "'Chargers',\n",
    "'Rams',\n",
    "'Miami Dolphins',\n",
    "'Minnesota Vikings',\n",
    "'New England Patriots',\n",
    "'New Orleans Saints',\n",
    "'Giants',\n",
    "'Jets',\n",
    "'Philadelphia Eagles',\n",
    "'Pittsburgh Steelers',\n",
    "'San Francisco 49ers',\n",
    "'Seattle Seahawks',\n",
    "'Tampa Bay Buccaneers',\n",
    "'Tennessee Titans']\n",
    "len(nfl_team_names)"
   ]
  },
  {
   "cell_type": "markdown",
   "id": "a31492fc",
   "metadata": {},
   "source": [
    "Next, we will use the bing_image_downloader library to download 300 images for each NFL team logo search query. The downloader will automatically create a folder for each NFL team logo query and download the search engine image results into the query folder."
   ]
  },
  {
   "cell_type": "code",
   "execution_count": null,
   "id": "2111a2a7",
   "metadata": {},
   "outputs": [],
   "source": [
    "from bing_image_downloader import downloader\n",
    "\n",
    "for team_logo in nfl_team_names:\n",
    "\n",
    "    query = team_logo + ' NFL logo images'\n",
    "   \n",
    "    downloader.download(query, limit=300,  output_dir=train_dir, adult_filter_off=False, force_replace=False, timeout=60, verbose=True)"
   ]
  },
  {
   "cell_type": "markdown",
   "id": "ac83dcaa",
   "metadata": {},
   "source": [
    "Since not all of the downloaded images will be error-free, we need to test them, and delete images that cannot open. We will iterate over all of the image folders and attempt to open each image. If the image does not open, then it will be deleted. If we do not delete these images, then they could cause issues during model-buildings, since they are unreadable."
   ]
  },
  {
   "cell_type": "code",
   "execution_count": null,
   "id": "6e6f0445",
   "metadata": {},
   "outputs": [],
   "source": [
    "image_count=0\n",
    "for team_logo in nfl_team_names:\n",
    "    \n",
    "    query = team_logo + ' NFL logo images'\n",
    "\n",
    "    team_dir = os.path.join(train_dir, query)\n",
    "    \n",
    "    os.chdir(team_dir)\n",
    "    \n",
    "    \n",
    "    img_dir = team_dir\n",
    "    for filename in os.listdir(img_dir):\n",
    "        try :\n",
    "            with Image.open(img_dir + \"\\\\\" + filename) as im:\n",
    "                print('ok')\n",
    "        except :\n",
    "            print(img_dir + \"\\\\\" + filename, 'Is not ok')\n",
    "            image_count+=1\n",
    "            \n",
    "            os.remove(img_dir + \"\\\\\" + filename)\n",
    "print(str(image_count) + ' images were deleted.')"
   ]
  },
  {
   "cell_type": "markdown",
   "id": "da8ef304",
   "metadata": {},
   "source": [
    "### An important note on image curation.\n",
    "\n",
    "The final stage of the image collection process is to manually review the images in each folder. We need to make sure that there are no mislabeled images, and no repeated images of the same size. I found many duplicate sized images and images that were misclassified by the bing image search engine. I used domain knowledge of the team logos to ensure that all images were correctly labeled prior to model training. The curation of the images was by far the most time consuming step of the project, but was also the most critical. Failing to remove incorrectly labeled images would cause the model to propogate the misclassification, and would limit the accuracy of any model that is built using the data.  \n",
    "\n",
    "After carefully curating the images, the final training set containined approximately 215 images for each NFL team logo.  The images used in the project can be downloaded from [google drive](https://drive.google.com/drive/folders/1aM-0xHmFzcPjx1pa0hImghVUhezYLkfa)."
   ]
  }
 ],
 "metadata": {
  "kernelspec": {
   "display_name": "Python 3 (ipykernel)",
   "language": "python",
   "name": "python3"
  },
  "language_info": {
   "codemirror_mode": {
    "name": "ipython",
    "version": 3
   },
   "file_extension": ".py",
   "mimetype": "text/x-python",
   "name": "python",
   "nbconvert_exporter": "python",
   "pygments_lexer": "ipython3",
   "version": "3.8.11"
  },
  "toc": {
   "base_numbering": 1,
   "nav_menu": {},
   "number_sections": true,
   "sideBar": true,
   "skip_h1_title": false,
   "title_cell": "Table of Contents",
   "title_sidebar": "Contents",
   "toc_cell": false,
   "toc_position": {},
   "toc_section_display": true,
   "toc_window_display": false
  }
 },
 "nbformat": 4,
 "nbformat_minor": 5
}
